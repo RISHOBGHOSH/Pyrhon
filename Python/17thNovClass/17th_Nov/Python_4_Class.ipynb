{
 "cells": [
  {
   "cell_type": "code",
   "execution_count": 1,
   "id": "ba6bbc46-ff81-44df-9f8d-682b45198371",
   "metadata": {},
   "outputs": [],
   "source": [
    "#####functions in python\n",
    "def test():\n",
    "    pass ## it does nothing at all"
   ]
  },
  {
   "cell_type": "code",
   "execution_count": 2,
   "id": "4eac5eb9-d81c-42f5-a3ba-2d9a112a1b27",
   "metadata": {},
   "outputs": [
    {
     "data": {
      "text/plain": [
       "NoneType"
      ]
     },
     "execution_count": 2,
     "metadata": {},
     "output_type": "execute_result"
    }
   ],
   "source": [
    "type(test())"
   ]
  },
  {
   "cell_type": "code",
   "execution_count": 3,
   "id": "51192084-8cb7-4817-832f-550fdf915cdf",
   "metadata": {},
   "outputs": [
    {
     "ename": "SyntaxError",
     "evalue": "incomplete input (2690612609.py, line 2)",
     "output_type": "error",
     "traceback": [
      "\u001b[0;36m  Cell \u001b[0;32mIn [3], line 2\u001b[0;36m\u001b[0m\n\u001b[0;31m    \u001b[0m\n\u001b[0m    ^\u001b[0m\n\u001b[0;31mSyntaxError\u001b[0m\u001b[0;31m:\u001b[0m incomplete input\n"
     ]
    }
   ],
   "source": [
    "def test(): ## mandatory function should return something else give pass otherwise we will get an error\n",
    "    "
   ]
  },
  {
   "cell_type": "code",
   "execution_count": 4,
   "id": "9e1ccece-9ed8-4333-bc06-30716f1de492",
   "metadata": {},
   "outputs": [],
   "source": [
    "def add():\n",
    "    a = 1\n",
    "    b = 2\n",
    "    print(a+b)"
   ]
  },
  {
   "cell_type": "code",
   "execution_count": 5,
   "id": "f04233e4-89ca-4559-a3ce-a158ac22dd06",
   "metadata": {},
   "outputs": [
    {
     "name": "stdout",
     "output_type": "stream",
     "text": [
      "3\n"
     ]
    }
   ],
   "source": [
    "add()"
   ]
  },
  {
   "cell_type": "code",
   "execution_count": 6,
   "id": "d406a13a-a722-4346-b247-7b056fddd627",
   "metadata": {},
   "outputs": [],
   "source": [
    "def add(a,b):\n",
    "    print(a+b)"
   ]
  },
  {
   "cell_type": "code",
   "execution_count": 7,
   "id": "da528643-123b-443f-ad6f-5b8e899398de",
   "metadata": {},
   "outputs": [
    {
     "name": "stdout",
     "output_type": "stream",
     "text": [
      "5\n"
     ]
    }
   ],
   "source": [
    "add(2,3)"
   ]
  },
  {
   "cell_type": "code",
   "execution_count": 8,
   "id": "128331d5-4b17-4649-a8aa-839c47069869",
   "metadata": {},
   "outputs": [
    {
     "name": "stdout",
     "output_type": "stream",
     "text": [
      "5.5\n"
     ]
    }
   ],
   "source": [
    "add(2.5,3)"
   ]
  },
  {
   "cell_type": "code",
   "execution_count": 9,
   "id": "9de5ed9d-71d1-451a-b993-f606061cd0b6",
   "metadata": {},
   "outputs": [
    {
     "name": "stdout",
     "output_type": "stream",
     "text": [
      "6.067\n"
     ]
    }
   ],
   "source": [
    "add(2.5,3.567)"
   ]
  },
  {
   "cell_type": "code",
   "execution_count": 10,
   "id": "16228be0-d2b5-489d-b907-87af39a12b17",
   "metadata": {},
   "outputs": [
    {
     "ename": "TypeError",
     "evalue": "unsupported operand type(s) for +: 'int' and 'str'",
     "output_type": "error",
     "traceback": [
      "\u001b[0;31m---------------------------------------------------------------------------\u001b[0m",
      "\u001b[0;31mTypeError\u001b[0m                                 Traceback (most recent call last)",
      "Cell \u001b[0;32mIn [10], line 1\u001b[0m\n\u001b[0;32m----> 1\u001b[0m \u001b[43madd\u001b[49m\u001b[43m(\u001b[49m\u001b[38;5;241;43m2\u001b[39;49m\u001b[43m,\u001b[49m\u001b[38;5;124;43m\"\u001b[39;49m\u001b[38;5;124;43manand\u001b[39;49m\u001b[38;5;124;43m\"\u001b[39;49m\u001b[43m)\u001b[49m\n",
      "Cell \u001b[0;32mIn [6], line 2\u001b[0m, in \u001b[0;36madd\u001b[0;34m(a, b)\u001b[0m\n\u001b[1;32m      1\u001b[0m \u001b[38;5;28;01mdef\u001b[39;00m \u001b[38;5;21madd\u001b[39m(a,b):\n\u001b[0;32m----> 2\u001b[0m     \u001b[38;5;28mprint\u001b[39m(\u001b[43ma\u001b[49m\u001b[38;5;241;43m+\u001b[39;49m\u001b[43mb\u001b[49m)\n",
      "\u001b[0;31mTypeError\u001b[0m: unsupported operand type(s) for +: 'int' and 'str'"
     ]
    }
   ],
   "source": [
    "add(2,\"anand\")"
   ]
  },
  {
   "cell_type": "code",
   "execution_count": 11,
   "id": "2565d465-a6b3-4a68-816f-8bebc7a7a642",
   "metadata": {},
   "outputs": [
    {
     "data": {
      "text/plain": [
       "'2anand'"
      ]
     },
     "execution_count": 11,
     "metadata": {},
     "output_type": "execute_result"
    }
   ],
   "source": [
    "\"2\" + \"anand\""
   ]
  },
  {
   "cell_type": "code",
   "execution_count": 12,
   "id": "6ca9340b-5ad5-4ca8-9da4-d60946c91517",
   "metadata": {},
   "outputs": [
    {
     "name": "stdout",
     "output_type": "stream",
     "text": [
      "2anand\n"
     ]
    }
   ],
   "source": [
    "add(\"2\",\"anand\")"
   ]
  },
  {
   "cell_type": "code",
   "execution_count": 13,
   "id": "5b9bb787-ff44-484d-8402-baddccd13c80",
   "metadata": {},
   "outputs": [
    {
     "name": "stdout",
     "output_type": "stream",
     "text": [
      "xyz\n"
     ]
    },
    {
     "data": {
      "text/plain": [
       "NoneType"
      ]
     },
     "execution_count": 13,
     "metadata": {},
     "output_type": "execute_result"
    }
   ],
   "source": [
    "type(print(\"xyz\"))"
   ]
  },
  {
   "cell_type": "code",
   "execution_count": 14,
   "id": "fe86eea9-6435-4ae6-861d-24ab8a3785df",
   "metadata": {},
   "outputs": [],
   "source": [
    "def add(a,b):\n",
    "    return str(a)+str(b)"
   ]
  },
  {
   "cell_type": "code",
   "execution_count": 15,
   "id": "112683b7-8211-496e-96c2-c206f3bafbbb",
   "metadata": {},
   "outputs": [
    {
     "data": {
      "text/plain": [
       "'34'"
      ]
     },
     "execution_count": 15,
     "metadata": {},
     "output_type": "execute_result"
    }
   ],
   "source": [
    "add(3,4)"
   ]
  },
  {
   "cell_type": "code",
   "execution_count": 16,
   "id": "a11b8bc1-4d1e-4ee2-8a2d-e7126ead112a",
   "metadata": {},
   "outputs": [
    {
     "data": {
      "text/plain": [
       "'3Virat Kohli'"
      ]
     },
     "execution_count": 16,
     "metadata": {},
     "output_type": "execute_result"
    }
   ],
   "source": [
    "add(3,\"Virat Kohli\")"
   ]
  },
  {
   "cell_type": "code",
   "execution_count": 17,
   "id": "e1c25df0-4833-4710-bee3-c01303f3260c",
   "metadata": {},
   "outputs": [],
   "source": [
    "def add(a,b):\n",
    "    a = 1\n",
    "    b = 2\n",
    "    print(a+b)"
   ]
  },
  {
   "cell_type": "code",
   "execution_count": 18,
   "id": "ad62dd5d-dde0-4993-ac64-bfd7990a2f73",
   "metadata": {},
   "outputs": [
    {
     "name": "stdout",
     "output_type": "stream",
     "text": [
      "3\n"
     ]
    }
   ],
   "source": [
    "add(5,6)"
   ]
  },
  {
   "cell_type": "code",
   "execution_count": 19,
   "id": "6f862da1-e808-42de-923d-c85addfe0c1b",
   "metadata": {},
   "outputs": [],
   "source": [
    "def add(a,b):\n",
    "    print(a+b)"
   ]
  },
  {
   "cell_type": "code",
   "execution_count": 20,
   "id": "8ca262cc-6845-4886-8047-11a71e1dca52",
   "metadata": {},
   "outputs": [
    {
     "name": "stdout",
     "output_type": "stream",
     "text": [
      "11\n"
     ]
    }
   ],
   "source": [
    "add(5,6)"
   ]
  },
  {
   "cell_type": "code",
   "execution_count": 42,
   "id": "80786a86-55dd-4dcf-b3b3-af6297a2d4d9",
   "metadata": {},
   "outputs": [],
   "source": [
    "def add(a,b):\n",
    "    a=1\n",
    "    b=2\n",
    "    c=3\n",
    "    return a+b+c"
   ]
  },
  {
   "cell_type": "code",
   "execution_count": 22,
   "id": "e7c1142d-456d-42c5-b13d-5088f622d844",
   "metadata": {},
   "outputs": [
    {
     "data": {
      "text/plain": [
       "13"
      ]
     },
     "execution_count": 22,
     "metadata": {},
     "output_type": "execute_result"
    }
   ],
   "source": [
    "c=10\n",
    "add(5,6) + c"
   ]
  },
  {
   "cell_type": "code",
   "execution_count": 43,
   "id": "276aa4cf-d6ff-45dc-8788-21c04413d876",
   "metadata": {},
   "outputs": [
    {
     "data": {
      "text/plain": [
       "16"
      ]
     },
     "execution_count": 43,
     "metadata": {},
     "output_type": "execute_result"
    }
   ],
   "source": [
    "c=10\n",
    "add(5,6) + c"
   ]
  },
  {
   "cell_type": "code",
   "execution_count": 39,
   "id": "a2e16ad1-e938-4942-9a40-10a8e9e518ed",
   "metadata": {},
   "outputs": [],
   "source": [
    "def add(a,b,c):\n",
    "    a=1\n",
    "    b=2\n",
    "    c=3\n",
    "    return a+b+c,a+b,a+b*c ##multiple return statement is allowed"
   ]
  },
  {
   "cell_type": "code",
   "execution_count": 40,
   "id": "b544c2c9-bbc2-4be5-b2af-b7962059fcf4",
   "metadata": {},
   "outputs": [
    {
     "ename": "TypeError",
     "evalue": "add() missing 1 required positional argument: 'c'",
     "output_type": "error",
     "traceback": [
      "\u001b[0;31m---------------------------------------------------------------------------\u001b[0m",
      "\u001b[0;31mTypeError\u001b[0m                                 Traceback (most recent call last)",
      "Cell \u001b[0;32mIn [40], line 1\u001b[0m\n\u001b[0;32m----> 1\u001b[0m \u001b[43madd\u001b[49m\u001b[43m(\u001b[49m\u001b[38;5;241;43m2\u001b[39;49m\u001b[43m,\u001b[49m\u001b[38;5;241;43m3\u001b[39;49m\u001b[43m)\u001b[49m\n",
      "\u001b[0;31mTypeError\u001b[0m: add() missing 1 required positional argument: 'c'"
     ]
    }
   ],
   "source": [
    "add(2,3)"
   ]
  },
  {
   "cell_type": "code",
   "execution_count": 28,
   "id": "e68c5287-339b-4691-840c-40f86abd16c2",
   "metadata": {},
   "outputs": [
    {
     "data": {
      "text/plain": [
       "(6, 3, 7)"
      ]
     },
     "execution_count": 28,
     "metadata": {},
     "output_type": "execute_result"
    }
   ],
   "source": [
    " add(1,3)"
   ]
  },
  {
   "cell_type": "code",
   "execution_count": 29,
   "id": "e9c641be-df6d-49cd-912a-756d3604af49",
   "metadata": {},
   "outputs": [
    {
     "data": {
      "text/plain": [
       "tuple"
      ]
     },
     "execution_count": 29,
     "metadata": {},
     "output_type": "execute_result"
    }
   ],
   "source": [
    "type(add(1,3))"
   ]
  },
  {
   "cell_type": "code",
   "execution_count": 38,
   "id": "c5404c9e-485b-4d2a-a40f-a50281326c90",
   "metadata": {},
   "outputs": [
    {
     "ename": "TypeError",
     "evalue": "add() takes 2 positional arguments but 3 were given",
     "output_type": "error",
     "traceback": [
      "\u001b[0;31m---------------------------------------------------------------------------\u001b[0m",
      "\u001b[0;31mTypeError\u001b[0m                                 Traceback (most recent call last)",
      "Cell \u001b[0;32mIn [38], line 1\u001b[0m\n\u001b[0;32m----> 1\u001b[0m \u001b[43madd\u001b[49m\u001b[43m(\u001b[49m\u001b[38;5;241;43m1\u001b[39;49m\u001b[43m,\u001b[49m\u001b[38;5;241;43m2\u001b[39;49m\u001b[43m,\u001b[49m\u001b[38;5;241;43m3\u001b[39;49m\u001b[43m)\u001b[49m\n",
      "\u001b[0;31mTypeError\u001b[0m: add() takes 2 positional arguments but 3 were given"
     ]
    }
   ],
   "source": [
    "add(1,2,3)"
   ]
  },
  {
   "cell_type": "code",
   "execution_count": 31,
   "id": "ebd1ebc4-45b2-4a04-ae66-4951864b78c9",
   "metadata": {},
   "outputs": [
    {
     "ename": "TypeError",
     "evalue": "can only concatenate tuple (not \"int\") to tuple",
     "output_type": "error",
     "traceback": [
      "\u001b[0;31m---------------------------------------------------------------------------\u001b[0m",
      "\u001b[0;31mTypeError\u001b[0m                                 Traceback (most recent call last)",
      "Cell \u001b[0;32mIn [31], line 1\u001b[0m\n\u001b[0;32m----> 1\u001b[0m \u001b[43madd\u001b[49m\u001b[43m(\u001b[49m\u001b[38;5;241;43m6\u001b[39;49m\u001b[43m,\u001b[49m\u001b[38;5;241;43m5\u001b[39;49m\u001b[43m)\u001b[49m\u001b[38;5;241;43m+\u001b[39;49m\u001b[43mc\u001b[49m\n",
      "\u001b[0;31mTypeError\u001b[0m: can only concatenate tuple (not \"int\") to tuple"
     ]
    }
   ],
   "source": [
    "add(6,5)+c "
   ]
  },
  {
   "cell_type": "code",
   "execution_count": 32,
   "id": "5ec1e0de-222b-4f85-8b19-c4ec05a2b22f",
   "metadata": {},
   "outputs": [],
   "source": [
    "c=5\n",
    "c=1\n",
    "def add(a,b):\n",
    "    a=1\n",
    "    b=2\n",
    "    c=4\n",
    "    return a+b+c\n"
   ]
  },
  {
   "cell_type": "code",
   "execution_count": 34,
   "id": "fc74e288-a6c2-4846-bb72-32dc6979735e",
   "metadata": {},
   "outputs": [
    {
     "data": {
      "text/plain": [
       "7"
      ]
     },
     "execution_count": 34,
     "metadata": {},
     "output_type": "execute_result"
    }
   ],
   "source": [
    "add(2,3)"
   ]
  },
  {
   "cell_type": "code",
   "execution_count": 35,
   "id": "8dc6eeab-8de8-4716-a89e-961b82368c08",
   "metadata": {},
   "outputs": [
    {
     "ename": "TypeError",
     "evalue": "add() missing 2 required positional arguments: 'a' and 'b'",
     "output_type": "error",
     "traceback": [
      "\u001b[0;31m---------------------------------------------------------------------------\u001b[0m",
      "\u001b[0;31mTypeError\u001b[0m                                 Traceback (most recent call last)",
      "Cell \u001b[0;32mIn [35], line 1\u001b[0m\n\u001b[0;32m----> 1\u001b[0m \u001b[43madd\u001b[49m\u001b[43m(\u001b[49m\u001b[43m)\u001b[49m\n",
      "\u001b[0;31mTypeError\u001b[0m: add() missing 2 required positional arguments: 'a' and 'b'"
     ]
    }
   ],
   "source": [
    "add()"
   ]
  },
  {
   "cell_type": "code",
   "execution_count": 41,
   "id": "ff9fae03-8cde-46e5-8370-ee17b6de3bff",
   "metadata": {},
   "outputs": [
    {
     "name": "stdout",
     "output_type": "stream",
     "text": [
      "Value inside function: 10\n",
      "Value outside function: 20\n"
     ]
    }
   ],
   "source": [
    "def my_func():\n",
    "\tx = 10\n",
    "\tprint(\"Value inside function:\",x)\n",
    "\n",
    "x = 20\n",
    "my_func()\n",
    "print(\"Value outside function:\",x)\n"
   ]
  },
  {
   "cell_type": "code",
   "execution_count": 51,
   "id": "33f47519-913c-4936-8554-7b4a936389ce",
   "metadata": {},
   "outputs": [],
   "source": [
    "def abc(a,b,c):\n",
    "    return a+b+c, a*b*c, a+b*c "
   ]
  },
  {
   "cell_type": "code",
   "execution_count": 52,
   "id": "3167561f-f212-4cac-81e3-68da3a32ff20",
   "metadata": {},
   "outputs": [
    {
     "data": {
      "text/plain": [
       "(9, 24, 14)"
      ]
     },
     "execution_count": 52,
     "metadata": {},
     "output_type": "execute_result"
    }
   ],
   "source": [
    "abc(2,3,4)"
   ]
  },
  {
   "cell_type": "code",
   "execution_count": 53,
   "id": "2604b3fe-63ba-422e-a5b2-ffbd9d5a23c4",
   "metadata": {},
   "outputs": [],
   "source": [
    "def test():\n",
    "    return \"Sudhanshu\" ,[4,5,6,7],{'a':5,'b':6}"
   ]
  },
  {
   "cell_type": "code",
   "execution_count": 54,
   "id": "25be08ae-6c7a-42a0-b54d-5426fd08fe41",
   "metadata": {},
   "outputs": [
    {
     "data": {
      "text/plain": [
       "('Sudhanshu', [4, 5, 6, 7], {'a': 5, 'b': 6})"
      ]
     },
     "execution_count": 54,
     "metadata": {},
     "output_type": "execute_result"
    }
   ],
   "source": [
    "test()"
   ]
  },
  {
   "cell_type": "code",
   "execution_count": 55,
   "id": "ac74be0e-773b-4416-8e65-e3cc9fcbd6be",
   "metadata": {},
   "outputs": [
    {
     "data": {
      "text/plain": [
       "4"
      ]
     },
     "execution_count": 55,
     "metadata": {},
     "output_type": "execute_result"
    }
   ],
   "source": [
    "int(4.567)"
   ]
  },
  {
   "cell_type": "code",
   "execution_count": 56,
   "id": "638d15c5-80c4-4169-9fec-ad12ee65928a",
   "metadata": {},
   "outputs": [
    {
     "data": {
      "text/plain": [
       "3.0"
      ]
     },
     "execution_count": 56,
     "metadata": {},
     "output_type": "execute_result"
    }
   ],
   "source": [
    "float(3)"
   ]
  },
  {
   "cell_type": "code",
   "execution_count": 57,
   "id": "74a517ca-3a25-4c89-8440-2a3aa845c13f",
   "metadata": {},
   "outputs": [
    {
     "data": {
      "text/plain": [
       "'3'"
      ]
     },
     "execution_count": 57,
     "metadata": {},
     "output_type": "execute_result"
    }
   ],
   "source": [
    "str(3)"
   ]
  },
  {
   "cell_type": "code",
   "execution_count": 58,
   "id": "ef737e8b-4b23-4975-bb02-70d7cfd1da10",
   "metadata": {},
   "outputs": [],
   "source": [
    "### create a list of all the employess with different name say 5 (from user using input)\n",
    "### create a uyser defined function which returns the largest member(whoese length is more) from a list"
   ]
  },
  {
   "cell_type": "code",
   "execution_count": 62,
   "id": "cbb3b80a-fc8e-44c6-968e-2ced9d3240fd",
   "metadata": {},
   "outputs": [],
   "source": [
    "def add(a,b,c=2):\n",
    "    c = 1\n",
    "    return a+b+c"
   ]
  },
  {
   "cell_type": "code",
   "execution_count": 60,
   "id": "844fb765-2595-4c44-aed0-dde92b3bebf6",
   "metadata": {},
   "outputs": [
    {
     "data": {
      "text/plain": [
       "7"
      ]
     },
     "execution_count": 60,
     "metadata": {},
     "output_type": "execute_result"
    }
   ],
   "source": [
    "add(2,3)"
   ]
  },
  {
   "cell_type": "code",
   "execution_count": 61,
   "id": "d9ff524f-010e-42b3-bd98-5c50e25d1f2d",
   "metadata": {},
   "outputs": [
    {
     "data": {
      "text/plain": [
       "9"
      ]
     },
     "execution_count": 61,
     "metadata": {},
     "output_type": "execute_result"
    }
   ],
   "source": [
    "add(2,3,4)"
   ]
  },
  {
   "cell_type": "code",
   "execution_count": 63,
   "id": "6ce4aea1-4d5b-4013-a608-58494dc418d6",
   "metadata": {},
   "outputs": [
    {
     "data": {
      "text/plain": [
       "6"
      ]
     },
     "execution_count": 63,
     "metadata": {},
     "output_type": "execute_result"
    }
   ],
   "source": [
    "add(2,3,4)"
   ]
  },
  {
   "cell_type": "code",
   "execution_count": 65,
   "id": "7ab1f01b-fa97-412e-bdf1-a0e7c95b07e4",
   "metadata": {},
   "outputs": [],
   "source": [
    "test_list = ['anand', 'harsh', 'manisha', 'aishwarya', 'hanuman']"
   ]
  },
  {
   "cell_type": "code",
   "execution_count": 66,
   "id": "9c19a3e4-121b-48d9-90e3-087441f7c92a",
   "metadata": {},
   "outputs": [
    {
     "data": {
      "text/plain": [
       "['anand', 'harsh', 'manisha', 'aishwarya', 'hanuman']"
      ]
     },
     "execution_count": 66,
     "metadata": {},
     "output_type": "execute_result"
    }
   ],
   "source": [
    "test_list"
   ]
  },
  {
   "cell_type": "code",
   "execution_count": 69,
   "id": "2d7d1534-1f34-4c28-8699-b91c94442266",
   "metadata": {},
   "outputs": [
    {
     "name": "stdout",
     "output_type": "stream",
     "text": [
      "Maximum length string is : aishwarya\n"
     ]
    }
   ],
   "source": [
    "max_len = 1\n",
    "for ele in test_list:\n",
    "\tif len(ele) > max_len:\n",
    "\t\tmax_len = len(ele)\n",
    "\t\tres = ele\n",
    "\n",
    "print(\"Maximum length string is : \" + res)"
   ]
  },
  {
   "cell_type": "code",
   "execution_count": 84,
   "id": "0fe4b764-d812-426f-ae43-7c5607adf21f",
   "metadata": {},
   "outputs": [],
   "source": [
    "def biglen():\n",
    "    li=[]\n",
    "    res=0\n",
    "    for i in range(5):\n",
    "        li.append(input('enter a name: '))\n",
    "        if len(li[i])>res:\n",
    "            res=len(li[i])\n",
    "            temp=li[i]\n",
    "    return temp"
   ]
  },
  {
   "cell_type": "code",
   "execution_count": 85,
   "id": "6d6ef0a8-3c84-43ca-b1e9-c93f092be326",
   "metadata": {},
   "outputs": [
    {
     "name": "stdin",
     "output_type": "stream",
     "text": [
      "enter a name:  AnandJha\n",
      "enter a name:  Priyanka\n",
      "enter a name:  Karishma\n",
      "enter a name:  Ravi\n",
      "enter a name:  Bhusan\n"
     ]
    },
    {
     "data": {
      "text/plain": [
       "'AnandJha'"
      ]
     },
     "execution_count": 85,
     "metadata": {},
     "output_type": "execute_result"
    }
   ],
   "source": [
    "biglen()"
   ]
  },
  {
   "cell_type": "code",
   "execution_count": 72,
   "id": "29d91158-7bf8-4c19-b20f-d9059676bb2a",
   "metadata": {},
   "outputs": [],
   "source": [
    "emp_list = []\n",
    "def emp_list_func():\n",
    "    for i in range(5):\n",
    "        emp_name = input(\"Enter Employee Name\")\n",
    "        test_list.append(emp_name)"
   ]
  },
  {
   "cell_type": "code",
   "execution_count": 73,
   "id": "d0775c9e-77a1-4f48-9ad1-6a52afef18c0",
   "metadata": {},
   "outputs": [
    {
     "name": "stdin",
     "output_type": "stream",
     "text": [
      "Enter Employee Name AnandJha\n",
      "Enter Employee Name Hanuman\n",
      "Enter Employee Name Aishwarya\n",
      "Enter Employee Name Hanuman\n",
      "Enter Employee Name Rahul\n"
     ]
    }
   ],
   "source": [
    "emp_list_func()"
   ]
  },
  {
   "cell_type": "code",
   "execution_count": 86,
   "id": "0906ba3f-ca4b-45b8-a7de-59182b0313c3",
   "metadata": {},
   "outputs": [],
   "source": [
    "#########LAMBDA FUNCTION ############################################"
   ]
  },
  {
   "cell_type": "code",
   "execution_count": 87,
   "id": "fd1ca596-75a3-4eb4-8f41-888874289860",
   "metadata": {},
   "outputs": [],
   "source": [
    "#### its a one line function which can take any number of arguments but only one expression,which is evaluated and returned\n",
    "### its an anonoymous function i.e without a name\n",
    "### lambda kleyword is used to define it\n",
    "## no def keyword is used\n",
    "## one is free to use lambda funcctions wherever funcxtions object are required\n",
    "## You need to keep in your knowledge that lambda function are syntactically restricted to a single expression\n",
    "## the lambda operator => separates the input parameters on the left side from the lambda body on the right side"
   ]
  },
  {
   "cell_type": "code",
   "execution_count": 88,
   "id": "03f47853-60be-4b64-8a92-11aa2cf207af",
   "metadata": {},
   "outputs": [],
   "source": [
    "z = lambda a,b,c:a*b/c"
   ]
  },
  {
   "cell_type": "code",
   "execution_count": 89,
   "id": "af5e2e86-cb2c-4550-978c-cd7bdc3dcc07",
   "metadata": {},
   "outputs": [
    {
     "data": {
      "text/plain": [
       "24.0"
      ]
     },
     "execution_count": 89,
     "metadata": {},
     "output_type": "execute_result"
    }
   ],
   "source": [
    "z(8,9,3)"
   ]
  },
  {
   "cell_type": "code",
   "execution_count": 90,
   "id": "f4157773-24bb-495f-8515-40e9126510fb",
   "metadata": {},
   "outputs": [
    {
     "ename": "TypeError",
     "evalue": "<lambda>() missing 1 required positional argument: 'c'",
     "output_type": "error",
     "traceback": [
      "\u001b[0;31m---------------------------------------------------------------------------\u001b[0m",
      "\u001b[0;31mTypeError\u001b[0m                                 Traceback (most recent call last)",
      "Cell \u001b[0;32mIn [90], line 1\u001b[0m\n\u001b[0;32m----> 1\u001b[0m \u001b[43mz\u001b[49m\u001b[43m(\u001b[49m\u001b[38;5;241;43m8\u001b[39;49m\u001b[43m,\u001b[49m\u001b[38;5;241;43m9\u001b[39;49m\u001b[43m)\u001b[49m\n",
      "\u001b[0;31mTypeError\u001b[0m: <lambda>() missing 1 required positional argument: 'c'"
     ]
    }
   ],
   "source": [
    "z(8,9)"
   ]
  },
  {
   "cell_type": "code",
   "execution_count": 93,
   "id": "fdad431e-2fc3-4182-87b2-8b01db2515a5",
   "metadata": {},
   "outputs": [],
   "source": [
    "cube = lambda x : x**3"
   ]
  },
  {
   "cell_type": "code",
   "execution_count": 94,
   "id": "a51daeb3-57b1-438f-b8b5-feb8284b15b6",
   "metadata": {},
   "outputs": [
    {
     "data": {
      "text/plain": [
       "343"
      ]
     },
     "execution_count": 94,
     "metadata": {},
     "output_type": "execute_result"
    }
   ],
   "source": [
    "cube(7)"
   ]
  },
  {
   "cell_type": "code",
   "execution_count": 95,
   "id": "b36dc3fa-3cc0-410d-a8f6-b0259f086afb",
   "metadata": {},
   "outputs": [],
   "source": [
    "### craete an empty list\n",
    "## ask the user 5 times to input any number \n",
    "## use lambda function to test for odd and even and pass that number4 to another list calling odd /even"
   ]
  },
  {
   "cell_type": "code",
   "execution_count": 96,
   "id": "7002142d-dd68-40db-a8d2-d94dda2f041d",
   "metadata": {},
   "outputs": [
    {
     "ename": "SyntaxError",
     "evalue": "invalid syntax (1296789662.py, line 1)",
     "output_type": "error",
     "traceback": [
      "\u001b[0;36m  Cell \u001b[0;32mIn [96], line 1\u001b[0;36m\u001b[0m\n\u001b[0;31m    Check_No= lambda mylist[i]: if mylist[i]%2==0 print(\"Even\") else (\"Odd\")\u001b[0m\n\u001b[0m                           ^\u001b[0m\n\u001b[0;31mSyntaxError\u001b[0m\u001b[0;31m:\u001b[0m invalid syntax\n"
     ]
    }
   ],
   "source": [
    "Check_No= lambda mylist[i]: if mylist[i]%2==0 print(\"Even\") else (\"Odd\")"
   ]
  },
  {
   "cell_type": "code",
   "execution_count": 100,
   "id": "a2dc28c1-5842-4ff6-a879-10231e8da453",
   "metadata": {},
   "outputs": [
    {
     "name": "stdin",
     "output_type": "stream",
     "text": [
      "Enter a number >>  24\n"
     ]
    },
    {
     "name": "stdout",
     "output_type": "stream",
     "text": [
      "Even Number\n"
     ]
    }
   ],
   "source": [
    "number = int(input(\"Enter a number >> \"))\n",
    "odd_even = lambda : \"Even Number\" if number % 2 == 0 else \"Odd Number\"\n",
    "print(odd_even())"
   ]
  },
  {
   "cell_type": "code",
   "execution_count": 101,
   "id": "4a3da823-7dd4-4224-aa13-37275ee93405",
   "metadata": {},
   "outputs": [],
   "source": [
    "################################filter function##########################################"
   ]
  },
  {
   "cell_type": "code",
   "execution_count": null,
   "id": "decf446d-f3b4-4b0f-a937-60e67cb01560",
   "metadata": {},
   "outputs": [],
   "source": [
    "list_test = (4,5,6,7,8,6,7,8,8)"
   ]
  },
  {
   "cell_type": "code",
   "execution_count": null,
   "id": "cfba3ac7-9af2-45df-a891-196ab5c9d658",
   "metadata": {},
   "outputs": [],
   "source": [
    "a = list(filter(lambda x:x%2==0,list_test))\n",
    "b = list(filter(lambda x:x%2!=0,list_test))"
   ]
  },
  {
   "cell_type": "code",
   "execution_count": null,
   "id": "b1547f5f-91fe-4397-8a54-4167c4b9682b",
   "metadata": {},
   "outputs": [],
   "source": [
    "a,b"
   ]
  },
  {
   "cell_type": "code",
   "execution_count": 106,
   "id": "39522d7f-21de-4dfa-b341-2853dd4ddcef",
   "metadata": {},
   "outputs": [],
   "source": [
    "def even_check(n):\n",
    "    if n%2==0:\n",
    "        return True"
   ]
  },
  {
   "cell_type": "code",
   "execution_count": 107,
   "id": "13073c4b-b01f-42a3-a5ff-6bd348260d68",
   "metadata": {},
   "outputs": [
    {
     "data": {
      "text/plain": [
       "[4, 6, 8, 6, 8, 8]"
      ]
     },
     "execution_count": 107,
     "metadata": {},
     "output_type": "execute_result"
    }
   ],
   "source": [
    "list(filter(even_check,list_test))"
   ]
  },
  {
   "cell_type": "code",
   "execution_count": 108,
   "id": "446c7880-b3af-4e97-bc94-f3d879e34439",
   "metadata": {},
   "outputs": [],
   "source": [
    "z = lambda a,b,c:a**2+b*3+c"
   ]
  },
  {
   "cell_type": "code",
   "execution_count": 109,
   "id": "f66b12c5-99fb-406d-be06-d9de232bb6d3",
   "metadata": {},
   "outputs": [
    {
     "data": {
      "text/plain": [
       "50"
      ]
     },
     "execution_count": 109,
     "metadata": {},
     "output_type": "execute_result"
    }
   ],
   "source": [
    "z(5,6,7)"
   ]
  },
  {
   "cell_type": "code",
   "execution_count": 110,
   "id": "fa542c09-9884-4b54-8309-f64d68fab1ea",
   "metadata": {},
   "outputs": [],
   "source": [
    "from functools import reduce"
   ]
  },
  {
   "cell_type": "code",
   "execution_count": 111,
   "id": "4a9f2485-20b6-4991-8047-2798dd357252",
   "metadata": {},
   "outputs": [
    {
     "data": {
      "text/plain": [
       "39"
      ]
     },
     "execution_count": 111,
     "metadata": {},
     "output_type": "execute_result"
    }
   ],
   "source": [
    "test = [4,5,6,7,8,9]\n",
    "reduce(lambda x,y:x+y,test)"
   ]
  },
  {
   "cell_type": "code",
   "execution_count": 112,
   "id": "4c7be4ee-0b95-46c8-9f5d-82d9f511598e",
   "metadata": {},
   "outputs": [
    {
     "data": {
      "text/plain": [
       "0.0002645502645502645"
      ]
     },
     "execution_count": 112,
     "metadata": {},
     "output_type": "execute_result"
    }
   ],
   "source": [
    "test = [4,5,6,7,8,9]\n",
    "reduce(lambda x,y:x/y,test)"
   ]
  },
  {
   "cell_type": "code",
   "execution_count": null,
   "id": "5c4c7e27-a828-4276-88ce-eb66eeac4307",
   "metadata": {},
   "outputs": [],
   "source": [
    "test = [4,5,6,7,8,9,10,11] ##only 2 arguments are allowed...\n",
    "reduce(lambda x,y:x+y,test)"
   ]
  },
  {
   "cell_type": "code",
   "execution_count": null,
   "id": "0812f60e-65af-443b-99a9-f6e9ed27ab18",
   "metadata": {},
   "outputs": [],
   "source": [
    "get_cwd()"
   ]
  },
  {
   "cell_type": "code",
   "execution_count": null,
   "id": "967219ed-eef8-464d-9f1b-054b2a02faa8",
   "metadata": {},
   "outputs": [],
   "source": []
  },
  {
   "cell_type": "code",
   "execution_count": null,
   "id": "bcee9366-6af0-4393-9f8e-fd500b58e497",
   "metadata": {},
   "outputs": [],
   "source": []
  }
 ],
 "metadata": {
  "kernelspec": {
   "display_name": "Python 3 (ipykernel)",
   "language": "python",
   "name": "python3"
  },
  "language_info": {
   "codemirror_mode": {
    "name": "ipython",
    "version": 3
   },
   "file_extension": ".py",
   "mimetype": "text/x-python",
   "name": "python",
   "nbconvert_exporter": "python",
   "pygments_lexer": "ipython3",
   "version": "3.10.6"
  }
 },
 "nbformat": 4,
 "nbformat_minor": 5
}
