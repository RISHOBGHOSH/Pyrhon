{
 "cells": [
  {
   "cell_type": "code",
   "execution_count": 1,
   "id": "6a710677-4c40-492e-8262-1a2f50c86a1c",
   "metadata": {},
   "outputs": [],
   "source": [
    "def mydata(n):\n",
    "    return lambda a,b: (a+b)*n"
   ]
  },
  {
   "cell_type": "code",
   "execution_count": 2,
   "id": "c46daac7-7f3d-4844-b84a-f2cf475008be",
   "metadata": {},
   "outputs": [
    {
     "name": "stdout",
     "output_type": "stream",
     "text": [
      "20\n"
     ]
    }
   ],
   "source": [
    "var = mydata(4)\n",
    "print(var(2,3))"
   ]
  },
  {
   "cell_type": "code",
   "execution_count": 3,
   "id": "279dd216-a5d9-41d5-8dfa-bec97eb3989b",
   "metadata": {},
   "outputs": [],
   "source": [
    "################################ MAP FUNCTION #################################"
   ]
  },
  {
   "cell_type": "code",
   "execution_count": 4,
   "id": "3d4566ed-6b9c-4750-a53d-3d13dbaac3af",
   "metadata": {},
   "outputs": [],
   "source": [
    "list_test = [3,4,5,6,7,8,9,9]"
   ]
  },
  {
   "cell_type": "code",
   "execution_count": 5,
   "id": "5d462ad9-40d2-4803-a48c-e56174394bc6",
   "metadata": {},
   "outputs": [
    {
     "data": {
      "text/plain": [
       "[9, 16, 25, 36, 49, 64, 81, 81]"
      ]
     },
     "execution_count": 5,
     "metadata": {},
     "output_type": "execute_result"
    }
   ],
   "source": [
    "list(map(lambda x : x**2,list_test))"
   ]
  },
  {
   "cell_type": "code",
   "execution_count": 10,
   "id": "14efc2ca-0b2c-42f3-badf-db1836936c48",
   "metadata": {},
   "outputs": [],
   "source": [
    "a = [1,2,3,4,5,6]\n",
    "b = [5,6,7,4,3]\n",
    "c = [6,7,8,6,5,5,4]"
   ]
  },
  {
   "cell_type": "code",
   "execution_count": 11,
   "id": "b230fcd3-0234-4f95-bb8f-4f09145131b0",
   "metadata": {},
   "outputs": [],
   "source": [
    "def summation(x,y,z):\n",
    "    return x+y+z"
   ]
  },
  {
   "cell_type": "code",
   "execution_count": 12,
   "id": "8a5c450b-b11b-40d2-bd17-f724ee2fb727",
   "metadata": {},
   "outputs": [
    {
     "data": {
      "text/plain": [
       "[12, 15, 18, 14, 13]"
      ]
     },
     "execution_count": 12,
     "metadata": {},
     "output_type": "execute_result"
    }
   ],
   "source": [
    "list(map(summation,a,b,c))"
   ]
  },
  {
   "cell_type": "code",
   "execution_count": 9,
   "id": "926813ed-ffcd-421e-8bbe-74b907f1592f",
   "metadata": {},
   "outputs": [
    {
     "ename": "TypeError",
     "evalue": "list expected at most 1 argument, got 4",
     "output_type": "error",
     "traceback": [
      "\u001b[0;31m---------------------------------------------------------------------------\u001b[0m",
      "\u001b[0;31mTypeError\u001b[0m                                 Traceback (most recent call last)",
      "Cell \u001b[0;32mIn [9], line 1\u001b[0m\n\u001b[0;32m----> 1\u001b[0m \u001b[38;5;28;43mlist\u001b[39;49m\u001b[43m(\u001b[49m\u001b[43msummation\u001b[49m\u001b[43m,\u001b[49m\u001b[43ma\u001b[49m\u001b[43m,\u001b[49m\u001b[43mb\u001b[49m\u001b[43m,\u001b[49m\u001b[43mc\u001b[49m\u001b[43m)\u001b[49m\n",
      "\u001b[0;31mTypeError\u001b[0m: list expected at most 1 argument, got 4"
     ]
    }
   ],
   "source": []
  },
  {
   "cell_type": "code",
   "execution_count": 13,
   "id": "5e66a48f-3c74-4472-a440-fbb20f12a628",
   "metadata": {},
   "outputs": [],
   "source": [
    "list_test = (4,5,6,7,8,6,7,8,8)"
   ]
  },
  {
   "cell_type": "code",
   "execution_count": 14,
   "id": "a4122734-8405-4668-9cc5-6d9bfb7e7c20",
   "metadata": {},
   "outputs": [],
   "source": [
    "a = list(filter(lambda x:x%2==0,list_test))\n",
    "b = list(filter(lambda x:x%2!=0,list_test))"
   ]
  },
  {
   "cell_type": "code",
   "execution_count": 15,
   "id": "be26ec85-dd21-4983-b201-756d213b899f",
   "metadata": {},
   "outputs": [
    {
     "data": {
      "text/plain": [
       "([4, 6, 8, 6, 8, 8], [5, 7, 7])"
      ]
     },
     "execution_count": 15,
     "metadata": {},
     "output_type": "execute_result"
    }
   ],
   "source": [
    "a,b"
   ]
  },
  {
   "cell_type": "code",
   "execution_count": 16,
   "id": "5f6296be-324b-4b6e-ba7e-76411bd7514f",
   "metadata": {},
   "outputs": [
    {
     "data": {
      "text/plain": [
       "range(0, 10)"
      ]
     },
     "execution_count": 16,
     "metadata": {},
     "output_type": "execute_result"
    }
   ],
   "source": [
    "range(0,10)"
   ]
  },
  {
   "cell_type": "code",
   "execution_count": 17,
   "id": "832d6dc0-f392-404a-9ba8-dd8852c2035a",
   "metadata": {},
   "outputs": [
    {
     "data": {
      "text/plain": [
       "[0, 1, 2, 3, 4, 5, 6, 7, 8, 9]"
      ]
     },
     "execution_count": 17,
     "metadata": {},
     "output_type": "execute_result"
    }
   ],
   "source": [
    "list(range(0,10))"
   ]
  },
  {
   "cell_type": "code",
   "execution_count": 22,
   "id": "efc2d44d-b676-4ae6-ad6d-bbeacfc0d279",
   "metadata": {},
   "outputs": [
    {
     "ename": "NameError",
     "evalue": "name 'getwd' is not defined",
     "output_type": "error",
     "traceback": [
      "\u001b[0;31m---------------------------------------------------------------------------\u001b[0m",
      "\u001b[0;31mNameError\u001b[0m                                 Traceback (most recent call last)",
      "Cell \u001b[0;32mIn [22], line 1\u001b[0m\n\u001b[0;32m----> 1\u001b[0m \u001b[43mgetwd\u001b[49m()\n",
      "\u001b[0;31mNameError\u001b[0m: name 'getwd' is not defined"
     ]
    }
   ],
   "source": [
    "getwd()"
   ]
  },
  {
   "cell_type": "code",
   "execution_count": 23,
   "id": "121a2d91-4255-4988-b522-ed8028eb164a",
   "metadata": {},
   "outputs": [],
   "source": [
    "import os"
   ]
  },
  {
   "cell_type": "code",
   "execution_count": 24,
   "id": "d3e7b7c1-39b0-4517-8577-a106de147dde",
   "metadata": {},
   "outputs": [
    {
     "data": {
      "text/plain": [
       "'/home/jovyan/work'"
      ]
     },
     "execution_count": 24,
     "metadata": {},
     "output_type": "execute_result"
    }
   ],
   "source": [
    "os.getcwd()"
   ]
  },
  {
   "cell_type": "code",
   "execution_count": null,
   "id": "91d76a0f-4835-4df4-b156-d2cd316446d8",
   "metadata": {},
   "outputs": [],
   "source": []
  }
 ],
 "metadata": {
  "kernelspec": {
   "display_name": "Python 3 (ipykernel)",
   "language": "python",
   "name": "python3"
  },
  "language_info": {
   "codemirror_mode": {
    "name": "ipython",
    "version": 3
   },
   "file_extension": ".py",
   "mimetype": "text/x-python",
   "name": "python",
   "nbconvert_exporter": "python",
   "pygments_lexer": "ipython3",
   "version": "3.10.6"
  }
 },
 "nbformat": 4,
 "nbformat_minor": 5
}
